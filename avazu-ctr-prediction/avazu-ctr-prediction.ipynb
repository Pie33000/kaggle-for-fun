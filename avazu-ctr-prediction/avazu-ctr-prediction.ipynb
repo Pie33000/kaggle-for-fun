{
 "metadata": {
  "name": "",
  "signature": "sha256:0c0579202e94d40540fbe5e075dfcdc0a0aeb9397de5d5530c5feb215c6006cb"
 },
 "nbformat": 3,
 "nbformat_minor": 0,
 "worksheets": [
  {
   "cells": [
    {
     "cell_type": "code",
     "collapsed": false,
     "input": [
      "import pandas as pd\n",
      "import time\n",
      "from sklearn.linear_model import SGDRegressor\n",
      "from sklearn.ensemble import ExtraTreesRegressor, RandomForestRegressor\n",
      "from sklearn.neighbors import KNeighborsRegressor\n",
      "from sklearn.lda import LDA\n",
      "from sklearn.qda import QDA\n",
      "from sklearn.naive_bayes import GaussianNB\n",
      "from sklearn.tree import DecisionTreeRegressor\n",
      "\n",
      "#df = pd.read_csv('./data/train-100000')\n",
      "#df['is_train'] = np.random.uniform(0, 1, len(df)) <= .75\n",
      "#train, test = df[df['is_train']==True], df[df['is_train']==False]\n",
      "\n",
      "train = pd.read_csv('./data/train.gz',compression='gzip')\n",
      "test = pd.read_csv('./data/test.gz',compression='gzip')\n"
     ],
     "language": "python",
     "metadata": {},
     "outputs": []
    },
    {
     "cell_type": "code",
     "collapsed": false,
     "input": [
      "features = [\"C1\",\"banner_pos\",\"device_type\",\"device_conn_type\",\"C14\",\"C15\",\"C16\",\"C17\",\"C18\",\"C19\",\"C20\",\"C21\",\"site_category\",\"app_id\", \"app_domain\",\"app_category\",\"device_model\"]\n",
      "#features = [\"C1\",\"banner_pos\",\"C14\",\"C15\",\"C16\",\"C17\",\"C18\",\"C19\",\"C20\",\"C21\"]\n",
      "\n",
      "from sklearn import preprocessing\n",
      "le = preprocessing.LabelEncoder()\n",
      "\n",
      "for col in ['site_category','app_id','app_domain','app_category','device_model']:\n",
      "    le.fit(list(train[col])+list(test[col]))\n",
      "    train[col] = le.transform(train[col])\n",
      "    test[col] = le.transform(test[col])"
     ],
     "language": "python",
     "metadata": {},
     "outputs": []
    },
    {
     "cell_type": "code",
     "collapsed": false,
     "input": [
      "regressors = [ \n",
      "    #ExtraTreesRegressor(n_estimators=10),\n",
      "    #RandomForestRegressor(n_estimators=10),\n",
      "    KNeighborsRegressor(100),\n",
      "    #LDA(),\n",
      "    #QDA(),\n",
      "    #GaussianNB(),\n",
      "    #DecisionTreeRegressor(),\n",
      "    SGDRegressor(n_iter=15,verbose=5, learning_rate='invscaling',eta0=0.0000000001)\n",
      "]\n",
      "\n",
      "for regressor in regressors:\n",
      "    print regressor.__class__.__name__\n",
      "    start = time.time()\n",
      "    regressor.fit(train[list(features)], train.click)\n",
      "    print \"  -> Training time:\", time.time() - start\n",
      "\n",
      "import csv\n",
      "\n",
      "for regressor in regressors:\n",
      "    print regressor.__class__.__name__\n",
      "    print np.sqrt(sum(pow(test.click - regressor.predict(test[features]),2)) / float(len(test)))\n",
      "    predictions = np.column_stack((test[\"id\"],regressor.predict(test[features])))\n",
      "    \n",
      "    csvfile = regressor.__class__.__name__ + \"-submit.csv\"\n",
      "    with open(csvfile, \"w\") as output:\n",
      "        writer = csv.writer(output, lineterminator='\\n')\n",
      "        writer.writerow([\"id\",\"click\"])\n",
      "        writer.writerows(predictions)"
     ],
     "language": "python",
     "metadata": {},
     "outputs": []
    },
    {
     "cell_type": "code",
     "collapsed": false,
     "input": [],
     "language": "python",
     "metadata": {},
     "outputs": [],
     "prompt_number": 136
    },
    {
     "cell_type": "code",
     "collapsed": false,
     "input": [],
     "language": "python",
     "metadata": {},
     "outputs": [],
     "prompt_number": 122
    },
    {
     "cell_type": "code",
     "collapsed": false,
     "input": [],
     "language": "python",
     "metadata": {},
     "outputs": [],
     "prompt_number": 122
    },
    {
     "cell_type": "code",
     "collapsed": false,
     "input": [],
     "language": "python",
     "metadata": {},
     "outputs": [],
     "prompt_number": 122
    },
    {
     "cell_type": "code",
     "collapsed": false,
     "input": [],
     "language": "python",
     "metadata": {},
     "outputs": [],
     "prompt_number": 122
    },
    {
     "cell_type": "code",
     "collapsed": false,
     "input": [],
     "language": "python",
     "metadata": {},
     "outputs": [],
     "prompt_number": 122
    },
    {
     "cell_type": "code",
     "collapsed": false,
     "input": [],
     "language": "python",
     "metadata": {},
     "outputs": [],
     "prompt_number": 122
    },
    {
     "cell_type": "code",
     "collapsed": false,
     "input": [],
     "language": "python",
     "metadata": {},
     "outputs": []
    }
   ],
   "metadata": {}
  }
 ]
}